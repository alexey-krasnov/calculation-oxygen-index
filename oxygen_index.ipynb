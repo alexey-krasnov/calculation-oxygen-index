{
 "cells": [
  {
   "cell_type": "code",
   "execution_count": 14,
   "id": "8fcaa71d-8c3b-4aee-bcf9-1f743500dde1",
   "metadata": {},
   "outputs": [],
   "source": [
    "# -*- coding: UTF-8 -*-\n",
    "\"\"\"Find the oxygen index in non-stoichiometric oxide-based materials\n",
    "according to charge balance rule\"\"\"\n",
    "import pandas as pd\n",
    "import chemparse\n",
    "\n",
    "\n",
    "def parse_formula(formula: str) -> dict:\n",
    "    \"\"\"Parse semiconductor formula and return chemical composition\n",
    "    as dictionary {'element': index, etc.}\"\"\"\n",
    "    return chemparse.parse_formula(formula)"
   ]
  },
  {
   "cell_type": "code",
   "execution_count": 15,
   "id": "d12550e6-8e83-4da3-ae3d-a92d951039af",
   "metadata": {},
   "outputs": [],
   "source": [
    "# Dictionary of used charge state\n",
    "charge_state = {\n",
    "        \"O\": -2,\n",
    "        \"Li\": 1,\n",
    "        \"Na\": 1,\n",
    "        \"Mg\": 2,\n",
    "        \"Al\": 3,\n",
    "        \"K\":  1,\n",
    "        \"Ca\": 2,\n",
    "        \"Sc\": 3,\n",
    "        \"Ti\": 4,\n",
    "        \"V\":  5,\n",
    "        \"Cr\": 3,\n",
    "        \"Mn\": 2,  # Check charge state according to experimental data\n",
    "        \"Fe\": 3,\n",
    "        \"Co\": 2,\n",
    "        \"Ni\": 2,\n",
    "        \"Cu\": 2,\n",
    "        \"Zn\": 2,\n",
    "        \"Y\":  3,\n",
    "        \"Zr\": 4,\n",
    "        \"Nb\": 5,\n",
    "        \"Mo\": 6,\n",
    "        \"Ag\": 1,\n",
    "        \"Cd\": 2,\n",
    "        \"In\": 3,\n",
    "        \"Ba\": 2,\n",
    "        \"La\": 3,\n",
    "        \"Ce\": 3,\n",
    "        \"Pr\": 3,\n",
    "        \"Nd\": 3,\n",
    "        \"Pm\": 3,\n",
    "        \"Sm\": 3,\n",
    "        \"Eu\": 3,\n",
    "        \"Gd\": 3,\n",
    "        \"Tb\": 3,\n",
    "        \"Dy\": 3,\n",
    "        \"Ho\": 3,\n",
    "        \"Er\": 3,\n",
    "        \"Tm\": 3,\n",
    "        \"Yb\": 3,\n",
    "        \"Bi\": 3,\n",
    "        \"Ga\": 3,\n",
    "                }"
   ]
  },
  {
   "cell_type": "code",
   "execution_count": 16,
   "id": "3cdbea02-7ab8-4291-b253-7a771967779c",
   "metadata": {},
   "outputs": [],
   "source": [
    "if __name__ == \"__main__\":\n",
    "    df = pd.read_excel('to_calculate.xlsx')\n",
    "    pd.options.display.max_columns = 12\n",
    "    for i, semiconductor in enumerate(df['Initial composition']):\n",
    "        positive_charge = 0\n",
    "        new_composition = ''\n",
    "        formula_as_dict = parse_formula(semiconductor)\n",
    "        for el, ind in formula_as_dict.items():\n",
    "            if el != 'O':\n",
    "                positive_charge += ind*charge_state[el]\n",
    "                new_composition += f'{el}{ind}'\n",
    "        new_composition = new_composition + 'O' + f'{round(positive_charge/2, 3)}'\n",
    "        df.at[i, 'Revised composition'] = new_composition\n",
    "    # Export data in csv and excel formats\n",
    "    df.to_csv('Revised compositions.csv', sep=',', index=False)\n",
    "    df.to_excel('Revised compositions.xlsx', index=False)"
   ]
  }
 ],
 "metadata": {
  "kernelspec": {
   "display_name": "Python 3 (ipykernel)",
   "language": "python",
   "name": "python3"
  },
  "language_info": {
   "codemirror_mode": {
    "name": "ipython",
    "version": 3
   },
   "file_extension": ".py",
   "mimetype": "text/x-python",
   "name": "python",
   "nbconvert_exporter": "python",
   "pygments_lexer": "ipython3",
   "version": "3.10.0"
  }
 },
 "nbformat": 4,
 "nbformat_minor": 5
}
